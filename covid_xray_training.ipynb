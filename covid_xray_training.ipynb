{
  "nbformat": 4,
  "nbformat_minor": 0,
  "metadata": {
    "colab": {
      "name": "covid x",
      "provenance": [],
      "private_outputs": true,
      "collapsed_sections": []
    },
    "kernelspec": {
      "name": "python3",
      "display_name": "Python 3"
    },
    "accelerator": "GPU"
  },
  "cells": [
    {
      "cell_type": "markdown",
      "metadata": {
        "id": "Pju4qwf733EL",
        "colab_type": "text"
      },
      "source": [
        ""
      ]
    },
    {
      "cell_type": "code",
      "metadata": {
        "id": "IzSyEO6Kxbt-",
        "colab_type": "code",
        "colab": {}
      },
      "source": [
        "import cv2 as cv\n",
        "import numpy as np\n",
        "import os\n",
        "import matplotlib.pyplot as plt\n",
        "from tqdm import tqdm\n",
        "import random\n",
        "import pickle\n",
        "from tensorflow.python.keras.preprocessing.image import ImageDataGenerator\n",
        "\n",
        "img_size=512"
      ],
      "execution_count": 0,
      "outputs": []
    },
    {
      "cell_type": "code",
      "metadata": {
        "id": "MwEIrOuwKyRT",
        "colab_type": "code",
        "colab": {}
      },
      "source": [
        "train_datagen = ImageDataGenerator(\n",
        "    rescale=1./255,\n",
        "    shear_range=0.2,\n",
        "    data_format='channels_last',\n",
        "    #brightness_range=[0.5, 1.5],\n",
        "    validation_split =0.2\n",
        ")\n"
      ],
      "execution_count": 0,
      "outputs": []
    },
    {
      "cell_type": "code",
      "metadata": {
        "id": "-dQdrYGgKyfj",
        "colab_type": "code",
        "colab": {}
      },
      "source": [
        "train_generator = train_datagen.flow_from_directory(\n",
        "'/content/covidx',\n",
        "target_size=(img_size,img_size),\n",
        "batch_size=16,\n",
        "color_mode = 'rgb',\n",
        "shuffle = True,\n",
        "seed = 42,\n",
        "class_mode='binary',\n",
        "subset = 'training')\n",
        "\n",
        "\n",
        "valid_generator = train_datagen.flow_from_directory(\n",
        "directory=\"/content/covidx\",\n",
        "target_size=(img_size, img_size),\n",
        "color_mode=\"rgb\",\n",
        "batch_size=16,\n",
        "class_mode=\"binary\",\n",
        "shuffle=True,\n",
        "seed=42,\n",
        "subset ='validation'\n",
        "\n",
        ")\n"
      ],
      "execution_count": 0,
      "outputs": []
    },
    {
      "cell_type": "code",
      "metadata": {
        "id": "n_g6QTARnlqx",
        "colab_type": "code",
        "colab": {}
      },
      "source": [
        "test_datagen = ImageDataGenerator(\n",
        "    #horizontal_flip=True,\n",
        "    #zoom_range=[0.5, 1.25],\n",
        "    rescale=1./255, \n",
        "    #preprocessing_function=func\n",
        " )\n",
        "test_generator = test_datagen.flow_from_directory(\n",
        "    directory=\"/content/drive/My Drive/train\",\n",
        "    target_size=(img_size, img_size),\n",
        "    color_mode=\"rgb\",\n",
        "    batch_size=1,\n",
        "    class_mode='binary',\n",
        "    shuffle=False,\n",
        "    seed=42\n",
        "    )\n"
      ],
      "execution_count": 0,
      "outputs": []
    },
    {
      "cell_type": "code",
      "metadata": {
        "id": "5VVSkgWGyEho",
        "colab_type": "code",
        "colab": {}
      },
      "source": [
        "import tensorflow\n",
        "from tensorflow.python.keras.models import Sequential,Model\n",
        "from tensorflow.python.keras.layers import Conv3D,Conv2D,MaxPooling2D,Input,Dense,Flatten,Dropout,Activation,BatchNormalization,GlobalAveragePooling2D\n",
        "from tensorflow.python.keras.layers import PReLU\n",
        "from tensorflow.python.keras import losses\n",
        "from tensorflow.keras.optimizers import Adam, Adagrad\n",
        "from tensorflow.python.keras.callbacks import EarlyStopping\n",
        "from tensorflow.python.keras import regularizers\n",
        "from tensorflow.python.keras.preprocessing.image import ImageDataGenerator\n",
        "import keras\n",
        "from tensorflow.python.keras.layers import LeakyReLU, PReLU\n",
        "import os\n",
        "from tensorflow.python.keras.applications.vgg16 import VGG16\n",
        "from tensorflow.python.keras.callbacks import TensorBoard\n",
        "\n",
        "\n",
        "base_model1=VGG16(include_top=False, input_shape=(img_size,img_size,3),classes=1000,weights='imagenet')\n",
        "base_model1.summary()\n"
      ],
      "execution_count": 0,
      "outputs": []
    },
    {
      "cell_type": "code",
      "metadata": {
        "id": "iOeUl_WRNkO7",
        "colab_type": "code",
        "colab": {}
      },
      "source": [
        "\n",
        "#  only training some layers \n",
        "\n",
        "for layers in base_model1.layers[:-7]:\n",
        "  layers.trainable=False\n",
        "  \n",
        "for layers in base_model1.layers:\n",
        "  print(layers ,layers.trainable)\n",
        "  \n",
        "  "
      ],
      "execution_count": 0,
      "outputs": []
    },
    {
      "cell_type": "code",
      "metadata": {
        "id": "VrrYAZ8xCgWu",
        "colab_type": "code",
        "colab": {}
      },
      "source": [
        "model = Sequential(layers=base_model1.layers)\n",
        "model.summary()"
      ],
      "execution_count": 0,
      "outputs": []
    },
    {
      "cell_type": "code",
      "metadata": {
        "id": "1O7UZ8UFKtWt",
        "colab_type": "code",
        "colab": {}
      },
      "source": [
        "def createmodel():\n",
        "  #     #  here we added new layers\n",
        "  model.add(GlobalAveragePooling2D())\n",
        "  model.add(Flatten())\n",
        "  model.add(Dense(256, activation='relu'))\n",
        "  model.add(Dropout(0.4))\n",
        "  model.add(Dense(1, activation='sigmoid', name ='output'))\n",
        "  \n",
        "  opt = Adam(lr=1e-6,decay= 1e-6/100)\n",
        "  model.compile(loss=\"binary_crossentropy\", optimizer=opt, metrics=[\"accuracy\"])\n",
        "  #model.compile(loss='binary_crossentropy', optimizer='adam', metrics=[\"accuracy\"])\n",
        "  model.summary()\n",
        "  return model\n"
      ],
      "execution_count": 0,
      "outputs": []
    },
    {
      "cell_type": "code",
      "metadata": {
        "id": "vLCDX_bGK4ap",
        "colab_type": "code",
        "colab": {}
      },
      "source": [
        "model=createmodel()"
      ],
      "execution_count": 0,
      "outputs": []
    },
    {
      "cell_type": "markdown",
      "metadata": {
        "id": "vdS7izcWcuu_",
        "colab_type": "text"
      },
      "source": [
        "## **Training** **process** **starts** **here**"
      ]
    },
    {
      "cell_type": "code",
      "metadata": {
        "id": "9APhuH6YIHar",
        "colab_type": "code",
        "colab": {}
      },
      "source": [
        "model.fit_generator(\n",
        "        train_generator,\n",
        "        steps_per_epoch=139,\n",
        "        epochs=15,\n",
        "        validation_data=valid_generator,\n",
        "        validation_steps=35\n",
        "        )"
      ],
      "execution_count": 0,
      "outputs": []
    },
    {
      "cell_type": "code",
      "metadata": {
        "id": "L2zjV_DCPXTy",
        "colab_type": "code",
        "colab": {}
      },
      "source": [
        "model.save('xraymodel.hdf5') #saving model"
      ],
      "execution_count": 0,
      "outputs": []
    },
    {
      "cell_type": "code",
      "metadata": {
        "id": "AKrc8oFuqdbz",
        "colab_type": "code",
        "colab": {}
      },
      "source": [
        "model = tensorflow.keras.models.load_model(\"/content/drive/My Drive/xraymodel.hdf5\") #to load the  saved model"
      ],
      "execution_count": 0,
      "outputs": []
    },
    {
      "cell_type": "code",
      "metadata": {
        "id": "imSJpEgso_0I",
        "colab_type": "code",
        "colab": {}
      },
      "source": [
        "import tensorflow as tf\n",
        "from tensorflow.keras.datasets import cifar10\n",
        "from tensorflow.keras.preprocessing.image import ImageDataGenerator\n",
        "from tensorflow.keras.models import Sequential\n",
        "from tensorflow.keras.layers import Dense, Dropout, Activation, Flatten\n",
        "from tensorflow.keras.layers import Conv2D, MaxPooling2D\n",
        "from tensorflow.keras.callbacks import TensorBoard\n",
        "\n",
        "model = tf.keras.models.load_model('/content/drive/My Drive/b.hdf5')\n",
        "\n",
        "prediction=model.predict(test_generator,steps=110,verbose=1)\n",
        "print(prediction)\n"
      ],
      "execution_count": 0,
      "outputs": []
    },
    {
      "cell_type": "code",
      "metadata": {
        "id": "sNSi3MY9oA84",
        "colab_type": "code",
        "colab": {}
      },
      "source": [
        "from sklearn.metrics import classification_report, confusion_matrix\n",
        "import itertools"
      ],
      "execution_count": 0,
      "outputs": []
    },
    {
      "cell_type": "markdown",
      "metadata": {
        "id": "xS772Q6McKcK",
        "colab_type": "text"
      },
      "source": [
        "# **Confusion** **matrix**"
      ]
    },
    {
      "cell_type": "code",
      "metadata": {
        "id": "tlOHOLr3ykSf",
        "colab_type": "code",
        "colab": {}
      },
      "source": [
        "def plot_confusion_matrix(cm, classes,normalize=False,title='Confusion matrix',cmap=plt.cm.Blues):\n",
        "  plt.imshow(cm, interpolation='nearest', cmap=cmap)\n",
        "  plt.title(title)\n",
        "  plt.colorbar()\n",
        "  tick_marks = np.arange(len(classes))\n",
        "  plt.xticks(tick_marks, classes)\n",
        "  plt.yticks(tick_marks, classes)\n",
        "\n",
        "  if normalize:\n",
        "    cm = cm.astype('float') / cm.sum(axis=1)[:, np.newaxis]\n",
        "    print(\"Normalized confusion matrix\")\n",
        "  else:\n",
        "    print('Confusion matrix, without normalization')\n",
        "    \n",
        "  fmt = '.2f' if normalize else 'd'\n",
        "  thresh = cm.max() / 2.\n",
        "  for i, j in itertools.product(range(cm.shape[0]), range(cm.shape[1])):\n",
        "    plt.text(j, i, format(cm[i, j], fmt),\n",
        "                 horizontalalignment=\"center\",\n",
        "                 color=\"red\" if cm[i, j] > thresh else \"black\")\n",
        "\n",
        "  plt.tight_layout()\n",
        "  plt.ylabel('True label')\n",
        "  plt.xlabel('Predicted label')\n",
        "  plt.show()\n",
        "y_pred = (prediction>0.5)*1\n",
        "cm=confusion_matrix(test_generator.classes,y_pred)\n",
        "cm_labels= ['COVID19','OTHERS']\n",
        "plot_confusion_matrix(cm=cm, classes=cm_labels, title='Confusion Matrix')\n",
        "plot_confusion_matrix(cm=cm, classes=cm_labels, title='Confusion Matrix', normalize=True)"
      ],
      "execution_count": 0,
      "outputs": []
    },
    {
      "cell_type": "code",
      "metadata": {
        "id": "oIL0wjKJcqUN",
        "colab_type": "code",
        "colab": {}
      },
      "source": [
        ""
      ],
      "execution_count": 0,
      "outputs": []
    },
    {
      "cell_type": "markdown",
      "metadata": {
        "id": "MtF12SIUdKVw",
        "colab_type": "text"
      },
      "source": [
        "# **Performance** **of** **model**"
      ]
    },
    {
      "cell_type": "code",
      "metadata": {
        "id": "ljYzxUL_pLfJ",
        "colab_type": "code",
        "colab": {}
      },
      "source": [
        "print('Classification Report')\n",
        "target_names = ['COVID19','OTHERS']\n",
        "print(classification_report(test_generator.classes, y_pred, target_names=target_names))"
      ],
      "execution_count": 0,
      "outputs": []
    },
    {
      "cell_type": "code",
      "metadata": {
        "id": "PVDwwNo11s8t",
        "colab_type": "code",
        "colab": {}
      },
      "source": [
        ""
      ],
      "execution_count": 0,
      "outputs": []
    }
  ]
}
